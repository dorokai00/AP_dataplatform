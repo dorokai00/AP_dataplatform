{
 "cells": [
  {
   "cell_type": "code",
   "execution_count": 2,
   "metadata": {},
   "outputs": [],
   "source": [
    "from qdrant_client import QdrantClient\n",
    "from qdrant_client.models import Distance, VectorParams, Batch\n",
    "from llama_index.core import Settings\n",
    "from llama_index.embeddings.huggingface import HuggingFaceEmbedding\n",
    "from langchain_huggingface import HuggingFaceEmbeddings\n",
    "from llama_index.vector_stores.qdrant import QdrantVectorStore\n",
    "from llama_index.core import Document, VectorStoreIndex\n",
    "from pymongo import MongoClient\n",
    "from bson import ObjectId\n",
    "from llama_index.core import StorageContext, load_index_from_storage"
   ]
  },
  {
   "cell_type": "markdown",
   "metadata": {},
   "source": [
    "---\n",
    "## create some example documents from mongodb for yellow pages"
   ]
  },
  {
   "cell_type": "code",
   "execution_count": 9,
   "metadata": {},
   "outputs": [],
   "source": [
    "def set_up_mongo(client_str,database_str,collection_str):\n",
    "    client = MongoClient(client_str) #connect to mongodb client\n",
    "    db = client[database_str] #connect to database\n",
    "\n",
    "    existing_collections = db.list_collection_names() #check that dbs collections\n",
    "    if collection_str not in existing_collections:\n",
    "        db.create_collection(collection_str) #create collection if needed\n",
    "    \n",
    "    my_collection = db[collection_str] #connect to collection\n",
    "\n",
    "    return my_collection"
   ]
  },
  {
   "cell_type": "code",
   "execution_count": 10,
   "metadata": {},
   "outputs": [],
   "source": [
    "collection = set_up_mongo('mongodb://localhost:27017','webscraping_dataLabKiel','yellow_pages_clean') "
   ]
  },
  {
   "cell_type": "code",
   "execution_count": null,
   "metadata": {},
   "outputs": [],
   "source": [
    "def create_doc(list_of_data, list_of_keys):\n",
    "    docs = []\n",
    "    for e in list_of_data:\n",
    "        text = \"\"\n",
    "        id = str(e[\"_id\"])\n",
    "        for k in list_of_keys:\n",
    "            text += str(e.get(k))\n",
    "        docs.append(Document(text=text, metadata={\"mongo_id\":id}))\n",
    "    return docs"
   ]
  },
  {
   "cell_type": "code",
   "execution_count": 8,
   "metadata": {},
   "outputs": [
    {
     "ename": "NameError",
     "evalue": "name 'collection' is not defined",
     "output_type": "error",
     "traceback": [
      "\u001b[1;31m---------------------------------------------------------------------------\u001b[0m",
      "\u001b[1;31mNameError\u001b[0m                                 Traceback (most recent call last)",
      "Cell \u001b[1;32mIn[8], line 1\u001b[0m\n\u001b[1;32m----> 1\u001b[0m yp_data \u001b[38;5;241m=\u001b[39m [e \u001b[38;5;28;01mfor\u001b[39;00m e \u001b[38;5;129;01min\u001b[39;00m \u001b[43mcollection\u001b[49m\u001b[38;5;241m.\u001b[39mfind({},{\u001b[38;5;124m\"\u001b[39m\u001b[38;5;124m_id\u001b[39m\u001b[38;5;124m\"\u001b[39m:\u001b[38;5;241m1\u001b[39m,\u001b[38;5;124m\"\u001b[39m\u001b[38;5;124mname\u001b[39m\u001b[38;5;124m\"\u001b[39m:\u001b[38;5;241m1\u001b[39m,\u001b[38;5;124m\"\u001b[39m\u001b[38;5;124mkeywords\u001b[39m\u001b[38;5;124m\"\u001b[39m:\u001b[38;5;241m1\u001b[39m,\u001b[38;5;124m\"\u001b[39m\u001b[38;5;124mdescription\u001b[39m\u001b[38;5;124m\"\u001b[39m:\u001b[38;5;241m1\u001b[39m})]\n\u001b[0;32m      2\u001b[0m text_type \u001b[38;5;241m=\u001b[39m [\u001b[38;5;124m\"\u001b[39m\u001b[38;5;124mname\u001b[39m\u001b[38;5;124m\"\u001b[39m,\u001b[38;5;124m\"\u001b[39m\u001b[38;5;124mkeywords\u001b[39m\u001b[38;5;124m\"\u001b[39m,\u001b[38;5;124m\"\u001b[39m\u001b[38;5;124mdescription\u001b[39m\u001b[38;5;124m\"\u001b[39m]\n\u001b[0;32m      3\u001b[0m documents \u001b[38;5;241m=\u001b[39m create_doc(yp_data,text_type)\n",
      "\u001b[1;31mNameError\u001b[0m: name 'collection' is not defined"
     ]
    }
   ],
   "source": [
    "yp_data = [e for e in collection.find({},{\"_id\":1,\"name\":1,\"keywords\":1,\"description\":1})]\n",
    "text_type = [\"name\",\"keywords\",\"description\"]\n",
    "documents = create_doc(yp_data,text_type)"
   ]
  },
  {
   "cell_type": "markdown",
   "metadata": {},
   "source": [
    "---"
   ]
  },
  {
   "cell_type": "markdown",
   "metadata": {},
   "source": [
    "## create client and vector store, add some data"
   ]
  },
  {
   "cell_type": "code",
   "execution_count": 3,
   "metadata": {},
   "outputs": [],
   "source": [
    "DIMENSIONS = 384\n",
    "client = QdrantClient(location=\":memory:\")"
   ]
  },
  {
   "cell_type": "code",
   "execution_count": 4,
   "metadata": {},
   "outputs": [],
   "source": [
    "embed_model = HuggingFaceEmbedding(model_name=\"sentence-transformers/all-MiniLM-L12-v2\")\n",
    "Settings.embed_model = embed_model"
   ]
  },
  {
   "cell_type": "code",
   "execution_count": 9,
   "metadata": {},
   "outputs": [],
   "source": [
    "vector_store = QdrantVectorStore(client=client, collection_name=\"nlp_search\")"
   ]
  },
  {
   "cell_type": "code",
   "execution_count": 10,
   "metadata": {},
   "outputs": [],
   "source": [
    "index = VectorStoreIndex.from_documents(\n",
    "    documents=documents,\n",
    "    vector_store=vector_store,\n",
    ")"
   ]
  },
  {
   "cell_type": "code",
   "execution_count": 11,
   "metadata": {},
   "outputs": [],
   "source": [
    "# make persistent!!\n",
    "index.set_index_id(\"nlp_search\")\n",
    "index.storage_context.persist(\"./nlp_search\")"
   ]
  },
  {
   "cell_type": "markdown",
   "metadata": {},
   "source": [
    "## connect to persistent & retriever"
   ]
  },
  {
   "cell_type": "markdown",
   "metadata": {},
   "source": [
    "now create to persistent storage??"
   ]
  },
  {
   "cell_type": "code",
   "execution_count": 6,
   "metadata": {},
   "outputs": [
    {
     "ename": "AttributeError",
     "evalue": "'OpenAIEmbedding' object has no attribute '__pydantic_private__'",
     "output_type": "error",
     "traceback": [
      "\u001b[1;31m---------------------------------------------------------------------------\u001b[0m",
      "\u001b[1;31mAttributeError\u001b[0m                            Traceback (most recent call last)",
      "Cell \u001b[1;32mIn[6], line 2\u001b[0m\n\u001b[0;32m      1\u001b[0m storage_context \u001b[38;5;241m=\u001b[39m StorageContext\u001b[38;5;241m.\u001b[39mfrom_defaults(persist_dir\u001b[38;5;241m=\u001b[39m\u001b[38;5;124m\"\u001b[39m\u001b[38;5;124m./nlp_search\u001b[39m\u001b[38;5;124m\"\u001b[39m)\n\u001b[1;32m----> 2\u001b[0m index \u001b[38;5;241m=\u001b[39m \u001b[43mload_index_from_storage\u001b[49m\u001b[43m(\u001b[49m\u001b[43mstorage_context\u001b[49m\u001b[43m,\u001b[49m\u001b[43m \u001b[49m\u001b[43mindex_id\u001b[49m\u001b[38;5;241;43m=\u001b[39;49m\u001b[38;5;124;43m\"\u001b[39;49m\u001b[38;5;124;43mnlp_search\u001b[39;49m\u001b[38;5;124;43m\"\u001b[39;49m\u001b[43m)\u001b[49m\n",
      "File \u001b[1;32mc:\\Users\\dorar\\Documents\\kiel\\data_science\\semester_2\\application_projects\\dataLab_kiel\\code\\SH_data_platform\\datalab_venv\\Lib\\site-packages\\llama_index\\core\\indices\\loading.py:33\u001b[0m, in \u001b[0;36mload_index_from_storage\u001b[1;34m(storage_context, index_id, **kwargs)\u001b[0m\n\u001b[0;32m     30\u001b[0m \u001b[38;5;28;01melse\u001b[39;00m:\n\u001b[0;32m     31\u001b[0m     index_ids \u001b[38;5;241m=\u001b[39m [index_id]\n\u001b[1;32m---> 33\u001b[0m indices \u001b[38;5;241m=\u001b[39m \u001b[43mload_indices_from_storage\u001b[49m\u001b[43m(\u001b[49m\u001b[43mstorage_context\u001b[49m\u001b[43m,\u001b[49m\u001b[43m \u001b[49m\u001b[43mindex_ids\u001b[49m\u001b[38;5;241;43m=\u001b[39;49m\u001b[43mindex_ids\u001b[49m\u001b[43m,\u001b[49m\u001b[43m \u001b[49m\u001b[38;5;241;43m*\u001b[39;49m\u001b[38;5;241;43m*\u001b[39;49m\u001b[43mkwargs\u001b[49m\u001b[43m)\u001b[49m\n\u001b[0;32m     35\u001b[0m \u001b[38;5;28;01mif\u001b[39;00m \u001b[38;5;28mlen\u001b[39m(indices) \u001b[38;5;241m==\u001b[39m \u001b[38;5;241m0\u001b[39m:\n\u001b[0;32m     36\u001b[0m     \u001b[38;5;28;01mraise\u001b[39;00m \u001b[38;5;167;01mValueError\u001b[39;00m(\n\u001b[0;32m     37\u001b[0m         \u001b[38;5;124m\"\u001b[39m\u001b[38;5;124mNo index in storage context, check if you specified the right persist_dir.\u001b[39m\u001b[38;5;124m\"\u001b[39m\n\u001b[0;32m     38\u001b[0m     )\n",
      "File \u001b[1;32mc:\\Users\\dorar\\Documents\\kiel\\data_science\\semester_2\\application_projects\\dataLab_kiel\\code\\SH_data_platform\\datalab_venv\\Lib\\site-packages\\llama_index\\core\\indices\\loading.py:78\u001b[0m, in \u001b[0;36mload_indices_from_storage\u001b[1;34m(storage_context, index_ids, **kwargs)\u001b[0m\n\u001b[0;32m     76\u001b[0m     type_ \u001b[38;5;241m=\u001b[39m index_struct\u001b[38;5;241m.\u001b[39mget_type()\n\u001b[0;32m     77\u001b[0m     index_cls \u001b[38;5;241m=\u001b[39m INDEX_STRUCT_TYPE_TO_INDEX_CLASS[type_]\n\u001b[1;32m---> 78\u001b[0m     index \u001b[38;5;241m=\u001b[39m \u001b[43mindex_cls\u001b[49m\u001b[43m(\u001b[49m\n\u001b[0;32m     79\u001b[0m \u001b[43m        \u001b[49m\u001b[43mindex_struct\u001b[49m\u001b[38;5;241;43m=\u001b[39;49m\u001b[43mindex_struct\u001b[49m\u001b[43m,\u001b[49m\u001b[43m \u001b[49m\u001b[43mstorage_context\u001b[49m\u001b[38;5;241;43m=\u001b[39;49m\u001b[43mstorage_context\u001b[49m\u001b[43m,\u001b[49m\u001b[43m \u001b[49m\u001b[38;5;241;43m*\u001b[39;49m\u001b[38;5;241;43m*\u001b[39;49m\u001b[43mkwargs\u001b[49m\n\u001b[0;32m     80\u001b[0m \u001b[43m    \u001b[49m\u001b[43m)\u001b[49m\n\u001b[0;32m     81\u001b[0m     indices\u001b[38;5;241m.\u001b[39mappend(index)\n\u001b[0;32m     82\u001b[0m \u001b[38;5;28;01mreturn\u001b[39;00m indices\n",
      "File \u001b[1;32mc:\\Users\\dorar\\Documents\\kiel\\data_science\\semester_2\\application_projects\\dataLab_kiel\\code\\SH_data_platform\\datalab_venv\\Lib\\site-packages\\llama_index\\core\\indices\\vector_store\\base.py:72\u001b[0m, in \u001b[0;36mVectorStoreIndex.__init__\u001b[1;34m(self, nodes, use_async, store_nodes_override, embed_model, insert_batch_size, objects, index_struct, storage_context, callback_manager, transformations, show_progress, **kwargs)\u001b[0m\n\u001b[0;32m     67\u001b[0m \u001b[38;5;28mself\u001b[39m\u001b[38;5;241m.\u001b[39m_use_async \u001b[38;5;241m=\u001b[39m use_async\n\u001b[0;32m     68\u001b[0m \u001b[38;5;28mself\u001b[39m\u001b[38;5;241m.\u001b[39m_store_nodes_override \u001b[38;5;241m=\u001b[39m store_nodes_override\n\u001b[0;32m     69\u001b[0m \u001b[38;5;28mself\u001b[39m\u001b[38;5;241m.\u001b[39m_embed_model \u001b[38;5;241m=\u001b[39m (\n\u001b[0;32m     70\u001b[0m     resolve_embed_model(embed_model, callback_manager\u001b[38;5;241m=\u001b[39mcallback_manager)\n\u001b[0;32m     71\u001b[0m     \u001b[38;5;28;01mif\u001b[39;00m embed_model\n\u001b[1;32m---> 72\u001b[0m     \u001b[38;5;28;01melse\u001b[39;00m \u001b[43mSettings\u001b[49m\u001b[38;5;241;43m.\u001b[39;49m\u001b[43membed_model\u001b[49m\n\u001b[0;32m     73\u001b[0m )\n\u001b[0;32m     75\u001b[0m \u001b[38;5;28mself\u001b[39m\u001b[38;5;241m.\u001b[39m_insert_batch_size \u001b[38;5;241m=\u001b[39m insert_batch_size\n\u001b[0;32m     76\u001b[0m \u001b[38;5;28msuper\u001b[39m()\u001b[38;5;241m.\u001b[39m\u001b[38;5;21m__init__\u001b[39m(\n\u001b[0;32m     77\u001b[0m     nodes\u001b[38;5;241m=\u001b[39mnodes,\n\u001b[0;32m     78\u001b[0m     index_struct\u001b[38;5;241m=\u001b[39mindex_struct,\n\u001b[1;32m   (...)\u001b[0m\n\u001b[0;32m     84\u001b[0m     \u001b[38;5;241m*\u001b[39m\u001b[38;5;241m*\u001b[39mkwargs,\n\u001b[0;32m     85\u001b[0m )\n",
      "File \u001b[1;32mc:\\Users\\dorar\\Documents\\kiel\\data_science\\semester_2\\application_projects\\dataLab_kiel\\code\\SH_data_platform\\datalab_venv\\Lib\\site-packages\\llama_index\\core\\settings.py:64\u001b[0m, in \u001b[0;36m_Settings.embed_model\u001b[1;34m(self)\u001b[0m\n\u001b[0;32m     62\u001b[0m \u001b[38;5;250m\u001b[39m\u001b[38;5;124;03m\"\"\"Get the embedding model.\"\"\"\u001b[39;00m\n\u001b[0;32m     63\u001b[0m \u001b[38;5;28;01mif\u001b[39;00m \u001b[38;5;28mself\u001b[39m\u001b[38;5;241m.\u001b[39m_embed_model \u001b[38;5;129;01mis\u001b[39;00m \u001b[38;5;28;01mNone\u001b[39;00m:\n\u001b[1;32m---> 64\u001b[0m     \u001b[38;5;28mself\u001b[39m\u001b[38;5;241m.\u001b[39m_embed_model \u001b[38;5;241m=\u001b[39m \u001b[43mresolve_embed_model\u001b[49m\u001b[43m(\u001b[49m\u001b[38;5;124;43m\"\u001b[39;49m\u001b[38;5;124;43mdefault\u001b[39;49m\u001b[38;5;124;43m\"\u001b[39;49m\u001b[43m)\u001b[49m\n\u001b[0;32m     66\u001b[0m \u001b[38;5;28;01mif\u001b[39;00m \u001b[38;5;28mself\u001b[39m\u001b[38;5;241m.\u001b[39m_callback_manager \u001b[38;5;129;01mis\u001b[39;00m \u001b[38;5;129;01mnot\u001b[39;00m \u001b[38;5;28;01mNone\u001b[39;00m:\n\u001b[0;32m     67\u001b[0m     \u001b[38;5;28mself\u001b[39m\u001b[38;5;241m.\u001b[39m_embed_model\u001b[38;5;241m.\u001b[39mcallback_manager \u001b[38;5;241m=\u001b[39m \u001b[38;5;28mself\u001b[39m\u001b[38;5;241m.\u001b[39m_callback_manager\n",
      "File \u001b[1;32mc:\\Users\\dorar\\Documents\\kiel\\data_science\\semester_2\\application_projects\\dataLab_kiel\\code\\SH_data_platform\\datalab_venv\\Lib\\site-packages\\llama_index\\core\\embeddings\\utils.py:58\u001b[0m, in \u001b[0;36mresolve_embed_model\u001b[1;34m(embed_model, callback_manager)\u001b[0m\n\u001b[0;32m     50\u001b[0m     \u001b[38;5;28;01mfrom\u001b[39;00m \u001b[38;5;21;01mllama_index\u001b[39;00m\u001b[38;5;21;01m.\u001b[39;00m\u001b[38;5;21;01membeddings\u001b[39;00m\u001b[38;5;21;01m.\u001b[39;00m\u001b[38;5;21;01mopenai\u001b[39;00m \u001b[38;5;28;01mimport\u001b[39;00m (\n\u001b[0;32m     51\u001b[0m         OpenAIEmbedding,\n\u001b[0;32m     52\u001b[0m     )  \u001b[38;5;66;03m# pants: no-infer-dep\u001b[39;00m\n\u001b[0;32m     54\u001b[0m     \u001b[38;5;28;01mfrom\u001b[39;00m \u001b[38;5;21;01mllama_index\u001b[39;00m\u001b[38;5;21;01m.\u001b[39;00m\u001b[38;5;21;01membeddings\u001b[39;00m\u001b[38;5;21;01m.\u001b[39;00m\u001b[38;5;21;01mopenai\u001b[39;00m\u001b[38;5;21;01m.\u001b[39;00m\u001b[38;5;21;01mutils\u001b[39;00m \u001b[38;5;28;01mimport\u001b[39;00m (\n\u001b[0;32m     55\u001b[0m         validate_openai_api_key,\n\u001b[0;32m     56\u001b[0m     )  \u001b[38;5;66;03m# pants: no-infer-dep\u001b[39;00m\n\u001b[1;32m---> 58\u001b[0m     embed_model \u001b[38;5;241m=\u001b[39m \u001b[43mOpenAIEmbedding\u001b[49m\u001b[43m(\u001b[49m\u001b[43m)\u001b[49m\n\u001b[0;32m     59\u001b[0m     validate_openai_api_key(embed_model\u001b[38;5;241m.\u001b[39mapi_key)  \u001b[38;5;66;03m# type: ignore\u001b[39;00m\n\u001b[0;32m     60\u001b[0m \u001b[38;5;28;01mexcept\u001b[39;00m \u001b[38;5;167;01mImportError\u001b[39;00m:\n",
      "File \u001b[1;32mc:\\Users\\dorar\\Documents\\kiel\\data_science\\semester_2\\application_projects\\dataLab_kiel\\code\\SH_data_platform\\datalab_venv\\Lib\\site-packages\\llama_index\\embeddings\\openai\\base.py:315\u001b[0m, in \u001b[0;36mOpenAIEmbedding.__init__\u001b[1;34m(self, mode, model, embed_batch_size, dimensions, additional_kwargs, api_key, api_base, api_version, max_retries, timeout, reuse_client, callback_manager, default_headers, http_client, async_http_client, num_workers, **kwargs)\u001b[0m\n\u001b[0;32m    307\u001b[0m     additional_kwargs[\u001b[38;5;124m\"\u001b[39m\u001b[38;5;124mdimensions\u001b[39m\u001b[38;5;124m\"\u001b[39m] \u001b[38;5;241m=\u001b[39m dimensions\n\u001b[0;32m    309\u001b[0m api_key, api_base, api_version \u001b[38;5;241m=\u001b[39m \u001b[38;5;28mself\u001b[39m\u001b[38;5;241m.\u001b[39m_resolve_credentials(\n\u001b[0;32m    310\u001b[0m     api_key\u001b[38;5;241m=\u001b[39mapi_key,\n\u001b[0;32m    311\u001b[0m     api_base\u001b[38;5;241m=\u001b[39mapi_base,\n\u001b[0;32m    312\u001b[0m     api_version\u001b[38;5;241m=\u001b[39mapi_version,\n\u001b[0;32m    313\u001b[0m )\n\u001b[1;32m--> 315\u001b[0m \u001b[38;5;28;43mself\u001b[39;49m\u001b[38;5;241;43m.\u001b[39;49m\u001b[43m_query_engine\u001b[49m \u001b[38;5;241m=\u001b[39m get_engine(mode, model, _QUERY_MODE_MODEL_DICT)\n\u001b[0;32m    316\u001b[0m \u001b[38;5;28mself\u001b[39m\u001b[38;5;241m.\u001b[39m_text_engine \u001b[38;5;241m=\u001b[39m get_engine(mode, model, _TEXT_MODE_MODEL_DICT)\n\u001b[0;32m    318\u001b[0m \u001b[38;5;28;01mif\u001b[39;00m \u001b[38;5;124m\"\u001b[39m\u001b[38;5;124mmodel_name\u001b[39m\u001b[38;5;124m\"\u001b[39m \u001b[38;5;129;01min\u001b[39;00m kwargs:\n",
      "File \u001b[1;32mc:\\Users\\dorar\\Documents\\kiel\\data_science\\semester_2\\application_projects\\dataLab_kiel\\code\\SH_data_platform\\datalab_venv\\Lib\\site-packages\\pydantic\\main.py:865\u001b[0m, in \u001b[0;36mBaseModel.__setattr__\u001b[1;34m(self, name, value)\u001b[0m\n\u001b[0;32m    860\u001b[0m     \u001b[38;5;28;01mraise\u001b[39;00m \u001b[38;5;167;01mAttributeError\u001b[39;00m(\n\u001b[0;32m    861\u001b[0m         \u001b[38;5;124mf\u001b[39m\u001b[38;5;124m'\u001b[39m\u001b[38;5;132;01m{\u001b[39;00mname\u001b[38;5;132;01m!r}\u001b[39;00m\u001b[38;5;124m is a ClassVar of `\u001b[39m\u001b[38;5;132;01m{\u001b[39;00m\u001b[38;5;28mself\u001b[39m\u001b[38;5;241m.\u001b[39m\u001b[38;5;18m__class__\u001b[39m\u001b[38;5;241m.\u001b[39m\u001b[38;5;18m__name__\u001b[39m\u001b[38;5;132;01m}\u001b[39;00m\u001b[38;5;124m` and cannot be set on an instance. \u001b[39m\u001b[38;5;124m'\u001b[39m\n\u001b[0;32m    862\u001b[0m         \u001b[38;5;124mf\u001b[39m\u001b[38;5;124m'\u001b[39m\u001b[38;5;124mIf you want to set a value on the class, use `\u001b[39m\u001b[38;5;132;01m{\u001b[39;00m\u001b[38;5;28mself\u001b[39m\u001b[38;5;241m.\u001b[39m\u001b[38;5;18m__class__\u001b[39m\u001b[38;5;241m.\u001b[39m\u001b[38;5;18m__name__\u001b[39m\u001b[38;5;132;01m}\u001b[39;00m\u001b[38;5;124m.\u001b[39m\u001b[38;5;132;01m{\u001b[39;00mname\u001b[38;5;132;01m}\u001b[39;00m\u001b[38;5;124m = value`.\u001b[39m\u001b[38;5;124m'\u001b[39m\n\u001b[0;32m    863\u001b[0m     )\n\u001b[0;32m    864\u001b[0m \u001b[38;5;28;01melif\u001b[39;00m \u001b[38;5;129;01mnot\u001b[39;00m _fields\u001b[38;5;241m.\u001b[39mis_valid_field_name(name):\n\u001b[1;32m--> 865\u001b[0m     \u001b[38;5;28;01mif\u001b[39;00m \u001b[38;5;28;43mself\u001b[39;49m\u001b[38;5;241;43m.\u001b[39;49m\u001b[43m__pydantic_private__\u001b[49m \u001b[38;5;129;01mis\u001b[39;00m \u001b[38;5;28;01mNone\u001b[39;00m \u001b[38;5;129;01mor\u001b[39;00m name \u001b[38;5;129;01mnot\u001b[39;00m \u001b[38;5;129;01min\u001b[39;00m \u001b[38;5;28mself\u001b[39m\u001b[38;5;241m.\u001b[39m__private_attributes__:\n\u001b[0;32m    866\u001b[0m         _object_setattr(\u001b[38;5;28mself\u001b[39m, name, value)\n\u001b[0;32m    867\u001b[0m     \u001b[38;5;28;01melse\u001b[39;00m:\n",
      "File \u001b[1;32mc:\\Users\\dorar\\Documents\\kiel\\data_science\\semester_2\\application_projects\\dataLab_kiel\\code\\SH_data_platform\\datalab_venv\\Lib\\site-packages\\pydantic\\main.py:853\u001b[0m, in \u001b[0;36mBaseModel.__getattr__\u001b[1;34m(self, item)\u001b[0m\n\u001b[0;32m    851\u001b[0m \u001b[38;5;28;01melse\u001b[39;00m:\n\u001b[0;32m    852\u001b[0m     \u001b[38;5;28;01mif\u001b[39;00m \u001b[38;5;28mhasattr\u001b[39m(\u001b[38;5;28mself\u001b[39m\u001b[38;5;241m.\u001b[39m\u001b[38;5;18m__class__\u001b[39m, item):\n\u001b[1;32m--> 853\u001b[0m         \u001b[38;5;28;01mreturn\u001b[39;00m \u001b[38;5;28;43msuper\u001b[39;49m\u001b[43m(\u001b[49m\u001b[43m)\u001b[49m\u001b[38;5;241;43m.\u001b[39;49m\u001b[38;5;21;43m__getattribute__\u001b[39;49m\u001b[43m(\u001b[49m\u001b[43mitem\u001b[49m\u001b[43m)\u001b[49m  \u001b[38;5;66;03m# Raises AttributeError if appropriate\u001b[39;00m\n\u001b[0;32m    854\u001b[0m     \u001b[38;5;28;01melse\u001b[39;00m:\n\u001b[0;32m    855\u001b[0m         \u001b[38;5;66;03m# this is the current error\u001b[39;00m\n\u001b[0;32m    856\u001b[0m         \u001b[38;5;28;01mraise\u001b[39;00m \u001b[38;5;167;01mAttributeError\u001b[39;00m(\u001b[38;5;124mf\u001b[39m\u001b[38;5;124m'\u001b[39m\u001b[38;5;132;01m{\u001b[39;00m\u001b[38;5;28mtype\u001b[39m(\u001b[38;5;28mself\u001b[39m)\u001b[38;5;241m.\u001b[39m\u001b[38;5;18m__name__\u001b[39m\u001b[38;5;132;01m!r}\u001b[39;00m\u001b[38;5;124m object has no attribute \u001b[39m\u001b[38;5;132;01m{\u001b[39;00mitem\u001b[38;5;132;01m!r}\u001b[39;00m\u001b[38;5;124m'\u001b[39m)\n",
      "\u001b[1;31mAttributeError\u001b[0m: 'OpenAIEmbedding' object has no attribute '__pydantic_private__'"
     ]
    }
   ],
   "source": [
    "storage_context = StorageContext.from_defaults(persist_dir=\"./nlp_search\")\n",
    "index = load_index_from_storage(storage_context, index_id=\"nlp_search\")"
   ]
  },
  {
   "cell_type": "code",
   "execution_count": 73,
   "metadata": {},
   "outputs": [],
   "source": [
    "retriever = index.as_retriever(similarity_top_k=10)\n",
    "results = retriever.retrieve('Ich will mir morgen die haare schneiden lassen welche friseure haben auf') "
   ]
  },
  {
   "cell_type": "code",
   "execution_count": 74,
   "metadata": {},
   "outputs": [],
   "source": [
    "batch_ids = [ObjectId(r.metadata[\"mongo_id\"]) for r in results]"
   ]
  },
  {
   "cell_type": "code",
   "execution_count": 75,
   "metadata": {},
   "outputs": [
    {
     "data": {
      "text/plain": [
       "[NodeWithScore(node=TextNode(id_='e340667e-c341-44fe-a919-7dfe4b77ade6', embedding=None, metadata={'mongo_id': '672a215f5fa167f70744c017'}, excluded_embed_metadata_keys=[], excluded_llm_metadata_keys=[], relationships={<NodeRelationship.SOURCE: '1'>: RelatedNodeInfo(node_id='fd70742f-478c-4383-9ddf-01f478dd9546', node_type='4', metadata={'mongo_id': '672a215f5fa167f70744c017'}, hash='976c9c26ab17fa139aa20263562fdea2aa084eb56fc090c5f186c840c5856440')}, metadata_template='{key}: {value}', metadata_separator='\\n', text=\"Horn von Holger Friseursalon['Haare färben', 'Haare föhnen', 'Haare schneiden', 'Haare waschen']None\", mimetype='text/plain', start_char_idx=0, end_char_idx=100, metadata_seperator='\\n', text_template='{metadata_str}\\n\\n{content}'), score=0.3944848300143057),\n",
       " NodeWithScore(node=TextNode(id_='994f4312-4809-4cff-a199-94bc8ce705aa', embedding=None, metadata={'mongo_id': '672a21885fa167f70744c11d'}, excluded_embed_metadata_keys=[], excluded_llm_metadata_keys=[], relationships={<NodeRelationship.SOURCE: '1'>: RelatedNodeInfo(node_id='f34177de-9691-443d-8e29-91a87f713cad', node_type='4', metadata={'mongo_id': '672a21885fa167f70744c11d'}, hash='da314c5fb6464d33d69b0a62fbc66e936da9dead0c16e682eefa6b6eecf09e37')}, metadata_template='{key}: {value}', metadata_separator='\\n', text=\"Friseur Salon Germaine['Haare färben', 'Haare föhnen', 'Haare schneiden', 'Haare waschen']None\", mimetype='text/plain', start_char_idx=0, end_char_idx=94, metadata_seperator='\\n', text_template='{metadata_str}\\n\\n{content}'), score=0.3885102833557372),\n",
       " NodeWithScore(node=TextNode(id_='24032a9a-7428-4d45-a657-612871311652', embedding=None, metadata={'mongo_id': '672a212d5fa167f70744bee7'}, excluded_embed_metadata_keys=[], excluded_llm_metadata_keys=[], relationships={<NodeRelationship.SOURCE: '1'>: RelatedNodeInfo(node_id='fb205629-4980-43ab-8c3c-50bc754622f4', node_type='4', metadata={'mongo_id': '672a212d5fa167f70744bee7'}, hash='556d2414c065940be29677904274343d6e9d649b689ba20ac7b1aa95dd9a69d9')}, metadata_template='{key}: {value}', metadata_separator='\\n', text=\"Salon Hoffmann Friseursalon['Haare färben', 'Haare föhnen', 'Haare schneiden', 'Haare waschen']None\", mimetype='text/plain', start_char_idx=0, end_char_idx=99, metadata_seperator='\\n', text_template='{metadata_str}\\n\\n{content}'), score=0.3803048914603981),\n",
       " NodeWithScore(node=TextNode(id_='533c6d70-79c1-4bd6-a391-3dc20cc72d61', embedding=None, metadata={'mongo_id': '672a212d5fa167f70744bee8'}, excluded_embed_metadata_keys=[], excluded_llm_metadata_keys=[], relationships={<NodeRelationship.SOURCE: '1'>: RelatedNodeInfo(node_id='202a3af5-db45-48b9-9c8b-c72ec5edec00', node_type='4', metadata={'mongo_id': '672a212d5fa167f70744bee8'}, hash='cd8c618dce1ac493120cde6d5d17ea050f2812326f5407d3e8c74e27e71dd1d8')}, metadata_template='{key}: {value}', metadata_separator='\\n', text=\"Friseursalon Haarschneiderei['Haare färben', 'Haare föhnen', 'Haare schneiden', 'Haare waschen']None\", mimetype='text/plain', start_char_idx=0, end_char_idx=100, metadata_seperator='\\n', text_template='{metadata_str}\\n\\n{content}'), score=0.37926433439148005),\n",
       " NodeWithScore(node=TextNode(id_='eee829e4-3e25-4f19-9a9c-37441249ee02', embedding=None, metadata={'mongo_id': '672a21ac5fa167f70744c1f1'}, excluded_embed_metadata_keys=[], excluded_llm_metadata_keys=[], relationships={<NodeRelationship.SOURCE: '1'>: RelatedNodeInfo(node_id='7e2e45d3-0b65-44a9-830a-8deae1ebd771', node_type='4', metadata={'mongo_id': '672a21ac5fa167f70744c1f1'}, hash='99a0c18880c2637ae520b61193da2ea41b065814b4cf77fc007c199b01a9e4a9')}, metadata_template='{key}: {value}', metadata_separator='\\n', text=\"Friseur Das Haarstudio Am Hafen['Haare färben', 'Haare föhnen', 'Haare schneiden', 'Haare waschen']None\", mimetype='text/plain', start_char_idx=0, end_char_idx=103, metadata_seperator='\\n', text_template='{metadata_str}\\n\\n{content}'), score=0.37878822035117843),\n",
       " NodeWithScore(node=TextNode(id_='7aa682f6-3e8d-465a-a2a4-827853b149fe', embedding=None, metadata={'mongo_id': '672a21ac5fa167f70744c1f3'}, excluded_embed_metadata_keys=[], excluded_llm_metadata_keys=[], relationships={<NodeRelationship.SOURCE: '1'>: RelatedNodeInfo(node_id='824f53da-3efb-4a3f-afa0-029f141101b4', node_type='4', metadata={'mongo_id': '672a21ac5fa167f70744c1f3'}, hash='0d9351e70dfcaaaaad9f72c8ba5c6dccbca3abbff15bee0f3c06f06e6fa6f876')}, metadata_template='{key}: {value}', metadata_separator='\\n', text=\"die_haarprofis Friseursalon['Haarteile', 'Haarverdichtungen', 'Haarverlängerungen', 'Haare färben', 'Haare föhnen', 'Haare schneiden', 'Haare waschen']None\", mimetype='text/plain', start_char_idx=0, end_char_idx=155, metadata_seperator='\\n', text_template='{metadata_str}\\n\\n{content}'), score=0.3619674760941941),\n",
       " NodeWithScore(node=TextNode(id_='af86f136-9198-48b9-b132-12df94005f0c', embedding=None, metadata={'mongo_id': '672a212d5fa167f70744beea'}, excluded_embed_metadata_keys=[], excluded_llm_metadata_keys=[], relationships={<NodeRelationship.SOURCE: '1'>: RelatedNodeInfo(node_id='d3d1c5ee-5c13-407e-b6d5-384ec5b8ea28', node_type='4', metadata={'mongo_id': '672a212d5fa167f70744beea'}, hash='3fbfd44df4c1518670e4dbd2b855fb487fb142247f52d6096ff0f79b30c49316')}, metadata_template='{key}: {value}', metadata_separator='\\n', text=\"Pöhls Frisiersalon['Haare färben', 'Haare föhnen', 'Haare schneiden', 'Haare waschen']None\", mimetype='text/plain', start_char_idx=0, end_char_idx=90, metadata_seperator='\\n', text_template='{metadata_str}\\n\\n{content}'), score=0.34663161791573294),\n",
       " NodeWithScore(node=TextNode(id_='4321f1ad-1d90-4b4d-81ad-346e0820b4e3', embedding=None, metadata={'mongo_id': '672a21885fa167f70744c11b'}, excluded_embed_metadata_keys=[], excluded_llm_metadata_keys=[], relationships={<NodeRelationship.SOURCE: '1'>: RelatedNodeInfo(node_id='b445fa8d-2f6a-49b7-b2c1-327eedcecc14', node_type='4', metadata={'mongo_id': '672a21885fa167f70744c11b'}, hash='fd74daa06499a69f722b519d030e1c025007d4577d89e4ca0aa3c4ee44e3259c')}, metadata_template='{key}: {value}', metadata_separator='\\n', text=\"Salon Greve Inh. Barbara Greve['Haare färben', 'Haare föhnen', 'Haare schneiden', 'Haare waschen']None\", mimetype='text/plain', start_char_idx=0, end_char_idx=102, metadata_seperator='\\n', text_template='{metadata_str}\\n\\n{content}'), score=0.33049209386807404),\n",
       " NodeWithScore(node=TextNode(id_='3802a1b8-caa4-4522-bf19-d827f748ad3a', embedding=None, metadata={'mongo_id': '672a215f5fa167f70744c01a'}, excluded_embed_metadata_keys=[], excluded_llm_metadata_keys=[], relationships={<NodeRelationship.SOURCE: '1'>: RelatedNodeInfo(node_id='8197d412-574f-4a9d-90ba-40b58ef967d8', node_type='4', metadata={'mongo_id': '672a215f5fa167f70744c01a'}, hash='d7de60fef6f4146051c2177bb1bb1032a88319995b0ebe586a6ce2aa788e69d4')}, metadata_template='{key}: {value}', metadata_separator='\\n', text=\"Schnipp-Schnapp Mobilfriseur Bianca['Haare färben', 'Haare föhnen', 'Haare schneiden', 'Haare waschen']None\", mimetype='text/plain', start_char_idx=0, end_char_idx=107, metadata_seperator='\\n', text_template='{metadata_str}\\n\\n{content}'), score=0.31614579271434595),\n",
       " NodeWithScore(node=TextNode(id_='aa750351-d2d4-4021-aeb5-0278dc3d827a', embedding=None, metadata={'mongo_id': '672a21ab5fa167f70744c1ef'}, excluded_embed_metadata_keys=[], excluded_llm_metadata_keys=[], relationships={<NodeRelationship.SOURCE: '1'>: RelatedNodeInfo(node_id='778f1915-91a4-46b3-8340-432839833d60', node_type='4', metadata={'mongo_id': '672a21ab5fa167f70744c1ef'}, hash='3e2ab1318b4b2901d4ec67db67f4b423509420fa49ffcdbc95225e56bf6f7aad')}, metadata_template='{key}: {value}', metadata_separator='\\n', text=\"Kürschner Ingrid Frisiersalon['Haare färben', 'Haare föhnen', 'Haare schneiden', 'Haare waschen']None\", mimetype='text/plain', start_char_idx=0, end_char_idx=101, metadata_seperator='\\n', text_template='{metadata_str}\\n\\n{content}'), score=0.2997893280193007)]"
      ]
     },
     "execution_count": 75,
     "metadata": {},
     "output_type": "execute_result"
    }
   ],
   "source": [
    "results"
   ]
  },
  {
   "cell_type": "markdown",
   "metadata": {},
   "source": [
    "## get mongodb data via object ids"
   ]
  },
  {
   "cell_type": "code",
   "execution_count": 62,
   "metadata": {},
   "outputs": [],
   "source": [
    "matches = [e for e in collection.find({\"_id\":{\"$in\": batch_ids}})]"
   ]
  },
  {
   "cell_type": "code",
   "execution_count": 63,
   "metadata": {},
   "outputs": [
    {
     "data": {
      "text/plain": [
       "[{'_id': ObjectId('672a212d5fa167f70744bee7'),\n",
       "  'address': {'addressCountry': 'DE',\n",
       "   'streetAddress': 'Norderstr. 7',\n",
       "   '@type': 'PostalAddress',\n",
       "   'postalCode': '25767',\n",
       "   'addressLocality': 'Albersdorf'},\n",
       "  'keywords': ['Haare färben',\n",
       "   'Haare föhnen',\n",
       "   'Haare schneiden',\n",
       "   'Haare waschen'],\n",
       "  '@type': ['LocalBusiness', 'HealthAndBeautyBusiness', 'HairSalon'],\n",
       "  'latitude': '54.14721',\n",
       "  'name': 'Salon Hoffmann Friseursalon',\n",
       "  'dateModified': '2019-09-16',\n",
       "  'telephone': '04835 3 49',\n",
       "  'openingHours': ['Di 08:00-12:00',\n",
       "   'Di 13:30-18:00',\n",
       "   'Mi 08:00-12:00',\n",
       "   'Mi 13:30-18:00',\n",
       "   'Do 08:00-12:00',\n",
       "   'Do 13:30-18:00',\n",
       "   'Fr 08:00-12:00',\n",
       "   'Fr 13:30-18:00',\n",
       "   'Sa 08:00-12:30'],\n",
       "  '@id': 'https://www.gelbeseiten.de/gsbiz/ff7be14e-4196-4e56-b736-3ccec4bcf4c5',\n",
       "  '@context': 'https://schema.org/',\n",
       "  'url': 'https://www.gelbeseiten.de/gsbiz/ff7be14e-4196-4e56-b736-3ccec4bcf4c5',\n",
       "  'longitude': '9.283368',\n",
       "  'lat': 54.14721,\n",
       "  'lon': 9.283368},\n",
       " {'_id': ObjectId('672a212d5fa167f70744bee8'),\n",
       "  'address': {'addressCountry': 'DE',\n",
       "   'streetAddress': 'Bahnhofstr. 7',\n",
       "   '@type': 'PostalAddress',\n",
       "   'postalCode': '25767',\n",
       "   'addressLocality': 'Albersdorf'},\n",
       "  'keywords': ['Haare färben',\n",
       "   'Haare föhnen',\n",
       "   'Haare schneiden',\n",
       "   'Haare waschen'],\n",
       "  '@type': ['LocalBusiness', 'HealthAndBeautyBusiness', 'HairSalon'],\n",
       "  'latitude': '54.14669',\n",
       "  'dateModified': '2023-08-07',\n",
       "  'telephone': '04835 9 78 15 80',\n",
       "  '@context': 'https://schema.org/',\n",
       "  'url': 'https://www.gelbeseiten.de/gsbiz/a7fe3254-35e8-4cb9-87d6-165e681b7dea',\n",
       "  'name': 'Friseursalon Haarschneiderei',\n",
       "  'openingHours': ['Mo 08:00-18:00',\n",
       "   'Di 08:00-18:00',\n",
       "   'Mi 08:00-18:00',\n",
       "   'Do 08:00-18:00',\n",
       "   'Fr 08:00-18:00',\n",
       "   'Sa 08:00-12:00'],\n",
       "  '@id': 'https://www.gelbeseiten.de/gsbiz/a7fe3254-35e8-4cb9-87d6-165e681b7dea',\n",
       "  'sameAs': 'https://friseur-albersdorf.de',\n",
       "  'longitude': '9.285647',\n",
       "  'lat': 54.14669,\n",
       "  'lon': 9.285647},\n",
       " {'_id': ObjectId('672a212d5fa167f70744beea'),\n",
       "  'address': {'addressCountry': 'DE',\n",
       "   'streetAddress': 'Spinnerstr. 4',\n",
       "   '@type': 'PostalAddress',\n",
       "   'postalCode': '25785',\n",
       "   'addressLocality': 'Nordhastedt'},\n",
       "  'keywords': ['Haare färben',\n",
       "   'Haare föhnen',\n",
       "   'Haare schneiden',\n",
       "   'Haare waschen'],\n",
       "  '@type': ['LocalBusiness', 'HealthAndBeautyBusiness', 'HairSalon'],\n",
       "  'latitude': '54.170784',\n",
       "  'name': 'Pöhls Frisiersalon',\n",
       "  'dateModified': '2019-09-16',\n",
       "  'telephone': '04804 5 61',\n",
       "  '@id': 'https://www.gelbeseiten.de/gsbiz/f09505fb-cbb1-4b8e-9dea-043cdd0ad93f',\n",
       "  '@context': 'https://schema.org/',\n",
       "  'url': 'https://www.gelbeseiten.de/gsbiz/f09505fb-cbb1-4b8e-9dea-043cdd0ad93f',\n",
       "  'longitude': '9.180646',\n",
       "  'lat': 54.170784,\n",
       "  'lon': 9.180646},\n",
       " {'_id': ObjectId('672a215f5fa167f70744c017'),\n",
       "  'address': {'addressCountry': 'DE',\n",
       "   'streetAddress': 'Von-Humboldt-Platz 4',\n",
       "   '@type': 'PostalAddress',\n",
       "   'postalCode': '25541',\n",
       "   'addressLocality': 'Brunsbüttel'},\n",
       "  'keywords': ['Haare färben',\n",
       "   'Haare föhnen',\n",
       "   'Haare schneiden',\n",
       "   'Haare waschen'],\n",
       "  '@type': ['LocalBusiness', 'HealthAndBeautyBusiness', 'HairSalon'],\n",
       "  'latitude': '53.89858',\n",
       "  'dateModified': '2022-06-16',\n",
       "  'telephone': '04852 75 01',\n",
       "  '@context': 'https://schema.org/',\n",
       "  'url': 'https://www.gelbeseiten.de/gsbiz/9131d5f5-f3fd-4ac6-9b85-397254371a26',\n",
       "  'review': [{'datePublished': '12.01.2019',\n",
       "    '@type': 'Review',\n",
       "    'author': {'@type': 'Person', 'name': 'null BenutzerIn'},\n",
       "    'reviewBody': 'Super Damensalon, immer freundlich, wurde gut beraten und auch meine mitgebrachten Fotos von Frisure...',\n",
       "    'reviewRating': {'bestRating': '5',\n",
       "     '@type': 'Rating',\n",
       "     'ratingValue': 5,\n",
       "     'worstRating': '1'}}],\n",
       "  'name': 'Horn von Holger Friseursalon',\n",
       "  '@id': 'https://www.gelbeseiten.de/gsbiz/9131d5f5-f3fd-4ac6-9b85-397254371a26',\n",
       "  'aggregateRating': {'bestRating': '5',\n",
       "   '@type': 'AggregateRating',\n",
       "   'ratingValue': '5.0',\n",
       "   'ratingCount': 1,\n",
       "   'worstRating': '0'},\n",
       "  'longitude': '9.123634',\n",
       "  'lat': 53.89858,\n",
       "  'lon': 9.123634},\n",
       " {'_id': ObjectId('672a215f5fa167f70744c01a'),\n",
       "  'address': {'addressCountry': 'DE',\n",
       "   'streetAddress': 'Am Bahnhof 4',\n",
       "   '@type': 'PostalAddress',\n",
       "   'postalCode': '25572',\n",
       "   'addressLocality': 'Landscheide'},\n",
       "  'keywords': ['Haare färben',\n",
       "   'Haare föhnen',\n",
       "   'Haare schneiden',\n",
       "   'Haare waschen'],\n",
       "  '@type': ['LocalBusiness', 'HealthAndBeautyBusiness', 'HairSalon'],\n",
       "  'latitude': '53.92018',\n",
       "  'name': 'Schnipp-Schnapp Mobilfriseur Bianca',\n",
       "  'dateModified': '2020-10-01',\n",
       "  'telephone': '0172 4 52 40 17',\n",
       "  '@id': 'https://www.gelbeseiten.de/gsbiz/98fed59d-1266-4bd4-b285-94c88e8b2e42',\n",
       "  '@context': 'https://schema.org/',\n",
       "  'url': 'https://www.gelbeseiten.de/gsbiz/98fed59d-1266-4bd4-b285-94c88e8b2e42',\n",
       "  'longitude': '9.251879',\n",
       "  'lat': 53.92018,\n",
       "  'lon': 9.251879},\n",
       " {'_id': ObjectId('672a21885fa167f70744c11b'),\n",
       "  'address': {'addressCountry': 'DE',\n",
       "   'streetAddress': 'Buchholzer Str. 23',\n",
       "   '@type': 'PostalAddress',\n",
       "   'postalCode': '25712',\n",
       "   'addressLocality': 'Burg (Dithmarschen)'},\n",
       "  'keywords': ['Haare färben',\n",
       "   'Haare föhnen',\n",
       "   'Haare schneiden',\n",
       "   'Haare waschen'],\n",
       "  '@type': ['LocalBusiness', 'HealthAndBeautyBusiness', 'HairSalon'],\n",
       "  'latitude': '53.996387',\n",
       "  'name': 'Salon Greve Inh. Barbara Greve',\n",
       "  'dateModified': '2024-10-14',\n",
       "  'telephone': '04825 74 39',\n",
       "  'openingHours': ['Di 08:00-12:00',\n",
       "   'Di 13:30-18:00',\n",
       "   'Mi 08:00-12:00',\n",
       "   'Mi 13:30-18:00',\n",
       "   'Do 08:00-12:00',\n",
       "   'Do 13:30-18:00',\n",
       "   'Fr 08:00-12:00',\n",
       "   'Fr 13:30-18:00',\n",
       "   'Sa 08:00-12:00'],\n",
       "  '@id': 'https://www.gelbeseiten.de/gsbiz/ef6f53dd-d0e7-4881-b16a-c74c26893f01',\n",
       "  '@context': 'https://schema.org/',\n",
       "  'url': 'https://www.gelbeseiten.de/gsbiz/ef6f53dd-d0e7-4881-b16a-c74c26893f01',\n",
       "  'longitude': '9.258966',\n",
       "  'lat': 53.996387,\n",
       "  'lon': 9.258966},\n",
       " {'_id': ObjectId('672a21885fa167f70744c11d'),\n",
       "  'address': {'addressCountry': 'DE',\n",
       "   'streetAddress': 'Ostlandstr. 1',\n",
       "   '@type': 'PostalAddress',\n",
       "   'postalCode': '25596',\n",
       "   'addressLocality': 'Wacken'},\n",
       "  'keywords': ['Haare färben',\n",
       "   'Haare föhnen',\n",
       "   'Haare schneiden',\n",
       "   'Haare waschen'],\n",
       "  '@type': ['LocalBusiness', 'HealthAndBeautyBusiness', 'HairSalon'],\n",
       "  'latitude': '54.019733',\n",
       "  'name': 'Friseur Salon Germaine',\n",
       "  'dateModified': '2019-01-31',\n",
       "  'telephone': '04827 99 80 88',\n",
       "  'openingHours': ['Mo 08:00-18:00',\n",
       "   'Di 08:00-18:00',\n",
       "   'Mi 08:00-12:00',\n",
       "   'Do 08:00-18:00',\n",
       "   'Fr 08:00-18:00',\n",
       "   'Sa 08:00-12:00'],\n",
       "  '@id': 'https://www.gelbeseiten.de/gsbiz/525d03ec-75b0-49a6-8c88-7bcfa0610ef7',\n",
       "  '@context': 'https://schema.org/',\n",
       "  'url': 'https://www.gelbeseiten.de/gsbiz/525d03ec-75b0-49a6-8c88-7bcfa0610ef7',\n",
       "  'longitude': '9.375808',\n",
       "  'lat': 54.019733,\n",
       "  'lon': 9.375808},\n",
       " {'_id': ObjectId('672a21ab5fa167f70744c1ef'),\n",
       "  'address': {'addressCountry': 'DE',\n",
       "   'streetAddress': 'Moltkestr. 10',\n",
       "   '@type': 'PostalAddress',\n",
       "   'postalCode': '25761',\n",
       "   'addressLocality': 'Büsum'},\n",
       "  'keywords': ['Haare färben',\n",
       "   'Haare föhnen',\n",
       "   'Haare schneiden',\n",
       "   'Haare waschen'],\n",
       "  '@type': ['LocalBusiness', 'HealthAndBeautyBusiness', 'HairSalon'],\n",
       "  'latitude': '54.129898',\n",
       "  'dateModified': '2021-04-19',\n",
       "  'telephone': '04834 83 20',\n",
       "  '@context': 'https://schema.org/',\n",
       "  'url': 'https://www.gelbeseiten.de/gsbiz/98923f49-63ec-40d4-a200-2aa8eb0ebcf3',\n",
       "  'review': [{'datePublished': '19.04.2016',\n",
       "    '@type': 'Review',\n",
       "    'author': {'@type': 'Person', 'name': 'Ingrid Kucinski BenutzerIn'},\n",
       "    'reviewBody': 'Das ist ein Frisuersalon, ich sage nur, super, da wird die \"echte \" Feundlichkeit noch sehr gross geschrieben, man fühlt sich im Salon sehr wohl.Der erste Besuch wenn ich in Büsum bin, ist der Frisuersalon Kürschner, dann sage ich nur zur Ingrid ( Inhaberin) oder Claudia, schneiden und strähnen, wie geschnitten wird überlasse ich den beiden, und ich bin immer, wirklich immer sehr Zufrieden. Das Vertrauen zu diesen beiden Damen ist wirklich sehr gross, auch der Rest des Team ist toll. Die Atmosphäre im Salon ist sehr gut, und es wird viel gelacht, es ist egal wer in den Salon kommt, er wird mit der gleichen Freundlichkeit empfangen wie ein Stammkunde. Wenn Ihr in Büsum seid, geht hin, es lohnt sich.',\n",
       "    'reviewRating': {'bestRating': '5',\n",
       "     '@type': 'Rating',\n",
       "     'ratingValue': 5,\n",
       "     'worstRating': '1'}}],\n",
       "  'name': 'Kürschner Ingrid Frisiersalon',\n",
       "  '@id': 'https://www.gelbeseiten.de/gsbiz/98923f49-63ec-40d4-a200-2aa8eb0ebcf3',\n",
       "  'aggregateRating': {'bestRating': '5',\n",
       "   '@type': 'AggregateRating',\n",
       "   'ratingValue': '5.0',\n",
       "   'ratingCount': 1,\n",
       "   'worstRating': '0'},\n",
       "  'longitude': '8.857078',\n",
       "  'lat': 54.129898,\n",
       "  'lon': 8.857078},\n",
       " {'_id': ObjectId('672a21ac5fa167f70744c1f1'),\n",
       "  'image': [{'@type': 'ImageObject',\n",
       "    'url': 'https://www.golocal.de/media/088b705a229bb2cd4b5724e6586c328c/ori_2df6151d91fa676e.PNG?utm_campaign=golocal_export&utm_medium=export_bpp&utm_source=alliance'},\n",
       "   {'@type': 'ImageObject',\n",
       "    'url': 'https://www.golocal.de/media/088b705a229bb2cd4b5724e6586c328c/ori_c5225235553f6504.PNG?utm_campaign=golocal_export&utm_medium=export_bpp&utm_source=alliance'}],\n",
       "  'address': {'addressCountry': 'DE',\n",
       "   'streetAddress': 'Am Fischereihafen 3',\n",
       "   '@type': 'PostalAddress',\n",
       "   'postalCode': '25761',\n",
       "   'addressLocality': 'Büsum'},\n",
       "  'keywords': ['Haare färben',\n",
       "   'Haare föhnen',\n",
       "   'Haare schneiden',\n",
       "   'Haare waschen'],\n",
       "  '@type': ['LocalBusiness', 'HealthAndBeautyBusiness', 'HairSalon'],\n",
       "  'latitude': '54.129173',\n",
       "  'dateModified': '2019-09-16',\n",
       "  'telephone': '04834 93 68 27',\n",
       "  '@context': 'https://schema.org/',\n",
       "  'url': 'https://www.gelbeseiten.de/gsbiz/88aab1c2-46bd-45eb-8595-d7274fde3089',\n",
       "  'review': [{'datePublished': '30.01.2024',\n",
       "    '@type': 'Review',\n",
       "    'author': {'@type': 'Person', 'name': 'null BenutzerIn'},\n",
       "    'reviewBody': 'Ich bin immer sehr zufrieden, Siegrun ist freundlich und versteht estwas von irem Fach.Immer gerne w...',\n",
       "    'reviewRating': {'bestRating': '5',\n",
       "     '@type': 'Rating',\n",
       "     'ratingValue': 5,\n",
       "     'worstRating': '1'}},\n",
       "   {'datePublished': '22.09.2021',\n",
       "    '@type': 'Review',\n",
       "    'author': {'@type': 'Person', 'name': 'null BenutzerIn'},\n",
       "    'reviewBody': 'Keinen Namen aufschreiben und dann Termin verschlampen',\n",
       "    'reviewRating': {'bestRating': '5',\n",
       "     '@type': 'Rating',\n",
       "     'ratingValue': 1,\n",
       "     'worstRating': '1'}},\n",
       "   {'datePublished': '14.08.2021',\n",
       "    '@type': 'Review',\n",
       "    'author': {'@type': 'Person', 'name': 'Hugo Peters BenutzerIn'},\n",
       "    'reviewBody': 'Top Bedienung und toller Haarschnitt zu bestem Preis',\n",
       "    'reviewRating': {'bestRating': '5',\n",
       "     '@type': 'Rating',\n",
       "     'ratingValue': 5,\n",
       "     'worstRating': '1'}},\n",
       "   {'datePublished': '16.07.2019',\n",
       "    '@type': 'Review',\n",
       "    'author': {'@type': 'Person', 'name': 'registration BenutzerIn'},\n",
       "    'reviewBody': 'Wir wurden hier in weniger als 30 Minuten abgefertigt. Auch ein Getränk wurde nicht angeboten. Unsere Haarschnitte haben nichts mit dem zu tun, was wir geschnitten haben wollten. Jetzt warten wir wirklich nur, bis das nachwächst und lassen uns dann wieder vernünftig die Haare schneiden. Wir kommen definitiv nie wieder.',\n",
       "    'reviewRating': {'bestRating': '5',\n",
       "     '@type': 'Rating',\n",
       "     'ratingValue': 1,\n",
       "     'worstRating': '1'}},\n",
       "   {'datePublished': '20.01.2013',\n",
       "    '@type': 'Review',\n",
       "    'author': {'@type': 'Person', 'name': 'Doerte@schobbel.de BenutzerIn'},\n",
       "    'reviewBody': 'So gut saßen meine Haare früher nie. Nun gehe ich nur noch dorthin!',\n",
       "    'reviewRating': {'bestRating': '5',\n",
       "     '@type': 'Rating',\n",
       "     'ratingValue': 5,\n",
       "     'worstRating': '1'}}],\n",
       "  'name': 'Friseur Das Haarstudio Am Hafen',\n",
       "  '@id': 'https://www.gelbeseiten.de/gsbiz/88aab1c2-46bd-45eb-8595-d7274fde3089',\n",
       "  'aggregateRating': {'bestRating': '5',\n",
       "   '@type': 'AggregateRating',\n",
       "   'ratingValue': '3.4',\n",
       "   'ratingCount': 5,\n",
       "   'worstRating': '0'},\n",
       "  'longitude': '8.867293',\n",
       "  'lat': 54.129173,\n",
       "  'lon': 8.867293},\n",
       " {'_id': ObjectId('672a21ac5fa167f70744c1f3'),\n",
       "  'address': {'addressCountry': 'DE',\n",
       "   'streetAddress': 'Kirchenstr. 1',\n",
       "   '@type': 'PostalAddress',\n",
       "   'postalCode': '25761',\n",
       "   'addressLocality': 'Büsum'},\n",
       "  'keywords': ['Haarteile',\n",
       "   'Haarverdichtungen',\n",
       "   'Haarverlängerungen',\n",
       "   'Haare färben',\n",
       "   'Haare föhnen',\n",
       "   'Haare schneiden',\n",
       "   'Haare waschen'],\n",
       "  '@type': ['LocalBusiness', 'HealthAndBeautyBusiness', 'HairSalon'],\n",
       "  'latitude': '54.13105',\n",
       "  'name': 'die_haarprofis Friseursalon',\n",
       "  'dateModified': '2019-02-05',\n",
       "  'telephone': '04834 26 30',\n",
       "  '@id': 'https://www.gelbeseiten.de/gsbiz/32592aa8-8bda-4c09-be3a-a10a668c133c',\n",
       "  '@context': 'https://schema.org/',\n",
       "  'url': 'https://www.gelbeseiten.de/gsbiz/32592aa8-8bda-4c09-be3a-a10a668c133c',\n",
       "  'longitude': '8.862052',\n",
       "  'lat': 54.13105,\n",
       "  'lon': 8.862052}]"
      ]
     },
     "execution_count": 63,
     "metadata": {},
     "output_type": "execute_result"
    }
   ],
   "source": [
    "matches"
   ]
  },
  {
   "cell_type": "markdown",
   "metadata": {},
   "source": [
    "---"
   ]
  }
 ],
 "metadata": {
  "kernelspec": {
   "display_name": "datalab_venv",
   "language": "python",
   "name": "python3"
  },
  "language_info": {
   "codemirror_mode": {
    "name": "ipython",
    "version": 3
   },
   "file_extension": ".py",
   "mimetype": "text/x-python",
   "name": "python",
   "nbconvert_exporter": "python",
   "pygments_lexer": "ipython3",
   "version": "3.12.4"
  }
 },
 "nbformat": 4,
 "nbformat_minor": 2
}
