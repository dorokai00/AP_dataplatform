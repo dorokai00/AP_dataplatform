{
 "cells": [
  {
   "cell_type": "code",
   "execution_count": 2,
   "metadata": {},
   "outputs": [],
   "source": [
    "from selenium.webdriver.chrome.service import Service\n",
    "from selenium.webdriver.chrome.options import Options\n",
    "from selenium import webdriver\n",
    "\n",
    "chrome_options = Options()\n",
    "chrome_options.add_argument(\"--no-sandbox\")\n",
    "chrome_options.add_argument(\"--disable-dev-shm-usage\")\n",
    "chrome_options.add_argument(\"--headless\")  # Optional: run in headless mode\n",
    "chrome_options.add_argument(\"--disable-gpu\")  # Disable GPU if issues with rendering\n",
    "chrome_options.add_argument(\"--window-size=1920,1080\")\n",
    "\n",
    "# Set the service for the ChromeDriver with proper path\n",
    "service = Service()\n",
    "driver = webdriver.Chrome()\n",
    "\n",
    "driver.get('https://www.kiel.de/de/_info/veranstaltungskalender.php#/de/kiel/default/search/Event/mode:next_months,3/sort:chronological/view:gallery')\n"
   ]
  },
  {
   "cell_type": "code",
   "execution_count": 3,
   "metadata": {},
   "outputs": [
    {
     "name": "stdout",
     "output_type": "stream",
     "text": [
      "None\n"
     ]
    }
   ],
   "source": [
    "print(chrome_options.add_argument(\"--verbose\"))\n"
   ]
  },
  {
   "cell_type": "code",
   "execution_count": 8,
   "metadata": {},
   "outputs": [],
   "source": [
    "import time\n",
    "import requests\n",
    "from bs4 import BeautifulSoup\n",
    "driver = webdriver.Chrome()\n",
    "\n",
    "# Load the website\n",
    "url = 'https://www.kiel.de/de/_info/veranstaltungskalender.php#/de/kiel/default/search/Event/mode:today/sort:chronological/view:gallery'\n",
    "driver.get(url)\n",
    "\n",
    "# Give the page some time to fully load the dynamic content\n",
    "time.sleep(5)\n",
    "\n",
    "# Scroll down to load more events (optional, depending on how many events you want)\n",
    "driver.execute_script(\"window.scrollTo(0, document.body.scrollHeight);\")\n",
    "time.sleep(3)\n",
    "\n",
    "# Use BeautifulSoup to parse the page source\n",
    "soup = BeautifulSoup(driver.page_source, 'html.parser')\n",
    "\n",
    "# Find the date\n",
    "#date_segment = soup.find(class_='date-segment')\n",
    "\n",
    "# Check if the date segment was found\n",
    "\"\"\" if date_segment:\n",
    "    # Get the text content and strip any surrounding whitespace\n",
    "    event_date = date_segment.get_text(strip=True)\n",
    "    print(f\"Extracted Date: {event_date}\")\n",
    "else:\n",
    "    print(\"Date segment not found.\")\"\"\"\n",
    "\n",
    "# Find all event items\n",
    "event_items = soup.find_all(class_='item-gallery-item')\n",
    "\n",
    "# Extract details for each event\n",
    "events = []\n",
    "for item in event_items:\n",
    "    event_name = item.find(class_='media-heading').get_text(strip=True)\n",
    "    location = item.find(class_='result_city').get_text(strip=True).replace('•', '').strip()\n",
    "    description = item.find(class_='result_open').get_text(strip=True)\n",
    "\n",
    "    events.append({\n",
    "        'date': event_date,\n",
    "        'name': event_name,\n",
    "        'location': location,\n",
    "        'description': description\n",
    "    })\n",
    "\n",
    "# Print the extracted event details\n",
    "for event in events:\n",
    "    print(f\"Date: {event['date']}\")\n",
    "    print(f\"Name: {event['name']}\")\n",
    "    print(f\"Location: {event['location']}\")\n",
    "    print(f\"Description: {event['description']}\\n\")\n"
   ]
  }
 ],
 "metadata": {
  "kernelspec": {
   "display_name": "SMA",
   "language": "python",
   "name": "python3"
  },
  "language_info": {
   "codemirror_mode": {
    "name": "ipython",
    "version": 3
   },
   "file_extension": ".py",
   "mimetype": "text/x-python",
   "name": "python",
   "nbconvert_exporter": "python",
   "pygments_lexer": "ipython3",
   "version": "3.12.5"
  }
 },
 "nbformat": 4,
 "nbformat_minor": 2
}
