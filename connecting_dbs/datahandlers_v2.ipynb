{
 "cells": [
  {
   "cell_type": "code",
   "execution_count": 3,
   "metadata": {},
   "outputs": [],
   "source": [
    "from abc import ABC, abstractmethod\n",
    "from typing import Any\n",
    "from pymongo import MongoClient\n",
    "from geopy.distance import geodesic\n",
    "import folium\n",
    "import pandas as pd"
   ]
  },
  {
   "cell_type": "code",
   "execution_count": 4,
   "metadata": {},
   "outputs": [],
   "source": [
    "class DBHandlers(ABC):\n",
    "\n",
    "    @abstractmethod \n",
    "    def connect_db(self,Client,client_str,db_str,coll_str): \n",
    "        client = Client(client_str) #connect to mongodb client\n",
    "        db = client[db_str] #connect to database\n",
    "        existing_collections = db.list_collection_names() #check that dbs collections\n",
    "        if coll_str not in existing_collections:\n",
    "            db.create_collection(coll_str) #create collection if needed\n",
    "        self.collection = db[coll_str] #connect to collection\n",
    "\n",
    "    @abstractmethod\n",
    "    def design_query_dict(self,input):\n",
    "        pass\n",
    "\n",
    "    @abstractmethod\n",
    "    def retrieve_data(self):\n",
    "        self.data = [elem for elem in self.collection.find(self.query_dict)]\n",
    "\n",
    "    @abstractmethod\n",
    "    def check_click_radius(self,click_point,radius):\n",
    "        in_radius = []\n",
    "        for e in self.data:\n",
    "            try:\n",
    "                #try like this because of naming irregularities with yp and osm data\n",
    "                try:\n",
    "                    lat, lon = e[\"latitude\"],e[\"longitude\"]\n",
    "                except KeyError:\n",
    "                    lat, lon = e[\"lat\"],e[\"lon\"]\n",
    "                other_point = (lat,lon)\n",
    "                dist = geodesic(click_point, other_point).km\n",
    "                if dist < radius:\n",
    "                    in_radius.append(e)\n",
    "            except:\n",
    "                pass\n",
    "        self.data = in_radius\n"
   ]
  },
  {
   "cell_type": "code",
   "execution_count": 5,
   "metadata": {},
   "outputs": [],
   "source": [
    "class OSM_queryer(DBHandlers):\n",
    "\n",
    "    def connect_db(self,Client=MongoClient,client_str='mongodb://localhost:27017', db_str='webscraping_dataLabKiel', coll_str='osm_pois'):\n",
    "        return super().connect_db(Client,client_str,db_str,coll_str)\n",
    "\n",
    "\n",
    "    def design_query_dict(self,input):\n",
    "        query_terms = []\n",
    "\n",
    "        if \"what_general\" in input.keys():\n",
    "                for val in input[\"what_general\"]:\n",
    "                        query_terms.append({\"amenity\": { \"$regex\": rf\"^{val}\", \"$options\": \"i\" }})\n",
    "\n",
    "        if \"what_specific\" in input.keys():\n",
    "                for val in input[\"what_specific\"]:\n",
    "                        query_terms.append({\"name\":{ \"$regex\": rf\"^{val}\", \"$options\": \"i\" }})\n",
    "                        query_terms.append({\"amenity\": { \"$regex\": rf\"^{val}\", \"$options\": \"i\" }})\n",
    "\n",
    "        if query_terms == []:\n",
    "                query_terms.append({\"_id\":\"thisisanimpossibleid\"}) #so that if nothing is entered nothing will be returned instead of everything\n",
    "                \n",
    "        self.query_dict = {\"$or\":query_terms}\n",
    "\n",
    "\n",
    "    def retrieve_data(self):\n",
    "        #self.data = [elem for elem in self.collection.find(self.query_dict)]\n",
    "        return super().retrieve_data()\n",
    "\n",
    "\n",
    "    def check_click_radius(self, click_point, radius):\n",
    "          return super().check_click_radius(click_point, radius)\n",
    "    \n"
   ]
  },
  {
   "cell_type": "code",
   "execution_count": 6,
   "metadata": {},
   "outputs": [],
   "source": [
    "class YP_queryer(DBHandlers):\n",
    "\n",
    "    #webscraping_dataLabKiel yellow_pages\n",
    "    def connect_db(self,Client=MongoClient,client_str='mongodb://localhost:27017', db_str='sh_data_collection', coll_str='yp_kiel'):\n",
    "        return super().connect_db(Client,client_str,db_str,coll_str)\n",
    "\n",
    "    def design_query_dict(self, input):\n",
    "        query_terms = []\n",
    "\n",
    "        if \"what_general\" in input.keys():\n",
    "                for val in input[\"what_general\"]:\n",
    "                        query_terms.append({\"keywords\": { \"$regex\": rf\"^{val}\", \"$options\": \"i\" }})\n",
    "\n",
    "        if \"what_specific\" in input.keys():\n",
    "                for val in input[\"what_specific\"]:\n",
    "                        query_terms.append({\"name\":{ \"$regex\": rf\"^{val}\", \"$options\": \"i\" }})\n",
    "                        query_terms.append({\"keyword\":{ \"$regex\": rf\"^{val}\", \"$options\": \"i\" }})\n",
    "\n",
    "        if query_terms == []:\n",
    "                query_terms.append({\"_id\":\"thisisanimpossibleid\"}) #so that if nothing is entered nothing will be returned instead of everything\n",
    "                \n",
    "        self.query_dict = {\"$or\":query_terms}\n",
    "    \n",
    "\n",
    "    def retrieve_data(self):\n",
    "        self.data = [elem for elem in self.collection.find(self.query_dict)]\n",
    "\n",
    "    def is_open(self):\n",
    "          #self.data if time.now is within opening hours would be cool!\n",
    "          pass\n",
    "    \n",
    "    def check_click_radius(self, click_point, radius):\n",
    "          return super().check_click_radius(click_point, radius)\n",
    "    "
   ]
  },
  {
   "cell_type": "code",
   "execution_count": null,
   "metadata": {},
   "outputs": [],
   "source": [
    "class OutputManager():\n",
    "\n",
    "    def manage_search(self,Querier,query,point,radius):\n",
    "        q = Querier()\n",
    "        q.connect_db()\n",
    "        q.design_query_dict(query)\n",
    "        q.retrieve_data()\n",
    "        q.check_click_radius(click_point=point,radius=radius)\n",
    "        return q.data\n",
    "\n",
    "    def integrate_data(self):\n",
    "        #manages all the results from the children db handlers and integrates the data\n",
    "        #manage by making one large list of relevant results? without duplicates\n",
    "        # self.results = self.osm_data + self.yp_data etc\n",
    "        pass\n",
    "\n",
    "    def popupStr_generator(self,df_row):\n",
    "        pps = f\"<b>{df_row[\"name\"]}</b>\"\n",
    "        features = df_row.index\n",
    "        values = df_row.values\n",
    "        for f,v in zip(features,values):\n",
    "            if f in [\"telephone\",\"amenity\",\"sameAs\",\"address\"]:\n",
    "                pps += f\"<br>{f}: {v}\"\n",
    "            else:\n",
    "                pps += \"\"\n",
    "        return pps\n",
    "    \n",
    "    def plot_spots(self,data,z):\n",
    "            poi_df = pd.DataFrame(data) #compile business sample into df\n",
    "            try:\n",
    "                if \"latitude\" in poi_df.columns:\n",
    "                    if \"lat\" in poi_df.columns:\n",
    "                        poi_df.drop(columns=[\"lat\",\"lon\"],inplace=True)\n",
    "                    poi_df.rename(columns={\"latitude\":\"lat\",\"longitude\":\"lon\"},inplace=True)\n",
    "\n",
    "                if \"coords\" in poi_df.columns:\n",
    "                    poi_df[[\"lat\",\"lon\"]] = poi_df[\"coords\"].apply(pd.Series)\n",
    "                    \n",
    "                poi_df[\"lat\"] = pd.to_numeric(poi_df[\"lat\"])\n",
    "                poi_df[\"lon\"] = pd.to_numeric(poi_df[\"lon\"])\n",
    "                poi_df.dropna(subset=[\"lat\",\"lon\"],inplace=True)\n",
    "                map_center = [poi_df['lat'].mean(), poi_df['lon'].mean()] # Center the map around the mean latitude and longitude of the POIs\n",
    "                self.m = folium.Map(location=map_center, zoom_start=z, tiles='OpenStreetMap') # Initialize the folium map with OpenStreetMap tiles\n",
    "\n",
    "                # Add markers with popups for each POI\n",
    "                for _, row in poi_df.iterrows():\n",
    "                    folium.Marker(\n",
    "                        location=[row['lat'], row['lon']],\n",
    "                        popup=self.popupStr_generator(row),\n",
    "                        tooltip=row['name']\n",
    "                    ).add_to(self.m)\n",
    "            except:\n",
    "                print(\"no map available due to e.g. naming errors\")\n",
    "                self.m = False\n",
    "            \n",
    "    def display_output(self):\n",
    "        self.plot_spots(data=self.data,z=15) #z is level of zoom\n",
    "    \n",
    "    # do this with args / kwargs so that one can search only by passing a point or only by passing a query\n",
    "    def perform_search(self,query,point,radius):\n",
    "        self.osm_data = self.manage_search(OSM_queryer,query=query,point=point,radius=radius)\n",
    "        self.yp_data = self.manage_search(YP_queryer,query=query,point=point,radius=radius)\n",
    "        self.data = self.osm_data + self.yp_data\n",
    "        self.display_output()\n"
   ]
  },
  {
   "cell_type": "markdown",
   "metadata": {},
   "source": [
    "--- \n",
    "\n",
    "Try it out: do the datahandler do their thing?\n",
    "\n",
    "---"
   ]
  },
  {
   "cell_type": "code",
   "execution_count": 8,
   "metadata": {},
   "outputs": [
    {
     "name": "stdout",
     "output_type": "stream",
     "text": [
      "{'$or': [{'amenity': {'$regex': '^pub', '$options': 'i'}}]}\n",
      "len of result pre range filter: 611\n",
      "len of result post range filter: 12\n"
     ]
    }
   ],
   "source": [
    "#with yp, try different collection: only kiel data\n",
    "click_point = (54.323334, 10.139444)\n",
    "radius = 1\n",
    "\n",
    "c = OSM_queryer()\n",
    "c.connect_db()\n",
    "c.collection\n",
    "i = {\"what_general\":[\"pub\"]}\n",
    "c.design_query_dict(i)\n",
    "print(c.query_dict)\n",
    "c.retrieve_data()\n",
    "results = c.data\n",
    "print(f\"len of result pre range filter: {len(results)}\")\n",
    "c.check_click_radius(click_point=click_point,radius=radius)\n",
    "results = c.data\n",
    "print(f\"len of result post range filter: {len(results)}\")"
   ]
  },
  {
   "cell_type": "code",
   "execution_count": 9,
   "metadata": {},
   "outputs": [
    {
     "name": "stdout",
     "output_type": "stream",
     "text": [
      "Collection(Database(MongoClient(host=['localhost:27017'], document_class=dict, tz_aware=False, connect=True), 'webscraping_dataLabKiel'), 'yellow_pages')\n",
      "{'$or': [{'keywords': {'$regex': '^reparatur', '$options': 'i'}}, {'keywords': {'$regex': '^repair', '$options': 'i'}}, {'name': {'$regex': '^reparatur', '$options': 'i'}}, {'keyword': {'$regex': '^reparatur', '$options': 'i'}}, {'name': {'$regex': '^repair', '$options': 'i'}}, {'keyword': {'$regex': '^repair', '$options': 'i'}}, {'name': {'$regex': '^Reparatur', '$options': 'i'}}, {'keyword': {'$regex': '^Reparatur', '$options': 'i'}}]}\n",
      "len of result pre range filter: 731\n",
      "len of result post range filter: 258\n"
     ]
    }
   ],
   "source": [
    "click_point = (54.511654, 13.638421)\n",
    "radius = 1\n",
    "\n",
    "c = YP_queryer()\n",
    "c.connect_db(db_str=\"webscraping_dataLabKiel\",coll_str=\"yellow_pages\")\n",
    "print(c.collection)\n",
    "i = {\"what_specific\":[\"reparatur\",\"repair\",\"Reparatur\"], \"what_general\":[\"reparatur\",\"repair\"]}\n",
    "c.design_query_dict(i)\n",
    "print(c.query_dict)\n",
    "c.retrieve_data()\n",
    "results = c.data\n",
    "print(f\"len of result pre range filter: {len(results)}\")\n",
    "c.check_click_radius(click_point=click_point,radius=radius)\n",
    "results = c.data\n",
    "print(f\"len of result post range filter: {len(results)}\") #lots double i imagine"
   ]
  },
  {
   "cell_type": "markdown",
   "metadata": {},
   "source": [
    "----"
   ]
  },
  {
   "cell_type": "markdown",
   "metadata": {},
   "source": [
    "does query manager manage everything?"
   ]
  },
  {
   "cell_type": "code",
   "execution_count": 10,
   "metadata": {},
   "outputs": [
    {
     "name": "stdout",
     "output_type": "stream",
     "text": [
      "we found 26 matches for your query!\n"
     ]
    }
   ],
   "source": [
    "click_point = (53.8682,10.6873)\n",
    "radius = 0.5\n",
    "i = {\"what_general\":[\"pub\"]}\n",
    "\n",
    "om = OutputManager()\n",
    "om.perform_search(i,click_point,radius)\n",
    "print(f\"we found {len(om.data)} matches for your query!\")\n",
    "#om.m"
   ]
  },
  {
   "cell_type": "code",
   "execution_count": 11,
   "metadata": {},
   "outputs": [
    {
     "name": "stdout",
     "output_type": "stream",
     "text": [
      "we found 83 matches for your query!\n"
     ]
    }
   ],
   "source": [
    "click_point = (54.323334, 10.139444)\n",
    "radius = 10\n",
    "i = {\"what_specific\":[\"pizza\",\"italian\",\"italienisch\",\"itali\"], \"what_general\":[\"pizza\",\"italian\",\"italienisch\",\"itali\"]}\n",
    "\n",
    "om = OutputManager()\n",
    "om.perform_search(i,click_point,radius)\n",
    "print(f\"we found {len(om.data)} matches for your query!\") #but they are double still\n",
    "#om.m"
   ]
  },
  {
   "cell_type": "code",
   "execution_count": 12,
   "metadata": {},
   "outputs": [
    {
     "name": "stdout",
     "output_type": "stream",
     "text": [
      "we found 256 matches for your query!\n"
     ]
    }
   ],
   "source": [
    "click_point = (54.323334, 10.139444)\n",
    "radius = 5\n",
    "i = {\"what\":[\"umzug\",\"umzüge\",\"transport\"], \"what_general\":[\"umzug\",\"umzüge\",\"transport\"]}\n",
    "\n",
    "om = OutputManager()\n",
    "om.perform_search(i,click_point,radius)\n",
    "print(f\"we found {len(om.data)} matches for your query!\") #but they are double still\n",
    "#om.m"
   ]
  },
  {
   "cell_type": "markdown",
   "metadata": {},
   "source": [
    "----\n",
    "\n",
    "# aggregate search"
   ]
  },
  {
   "cell_type": "code",
   "execution_count": 26,
   "metadata": {},
   "outputs": [],
   "source": [
    "def set_up_mongo(client_str,database_str,collection_str):\n",
    "    client = MongoClient(client_str) #connect to mongodb client\n",
    "    db = client[database_str] #connect to database\n",
    "\n",
    "    existing_collections = db.list_collection_names() #check that dbs collections\n",
    "    if collection_str not in existing_collections:\n",
    "        db.create_collection(collection_str) #create collection if needed\n",
    "    \n",
    "    my_collection = db[collection_str] #connect to collection\n",
    "\n",
    "    return my_collection\n",
    "\n",
    "\n",
    "collection = set_up_mongo('mongodb://localhost:27017','webscraping_dataLabKiel','avg_rent') \n",
    "collection_new = set_up_mongo('mongodb://localhost:27017','webscraping_dataLabKiel','avg_rent_v2') \n",
    "\n",
    "\n",
    "for x in collection.find():\n",
    "    id = x[\"_id\"]\n",
    "    coords = x[\"coords\"]\n",
    "    lat = coords[\"lat\"]\n",
    "    lon = coords[\"lon\"]\n",
    "    x.update({\"lat\":lat,\"lon\":lon})\n",
    "    #collection_new.insert_one(x)\n",
    "    collection.update_one({\"_id\":id},{\"$set\":{\"lat\":lat,\"lon\":lon}})"
   ]
  }
 ],
 "metadata": {
  "kernelspec": {
   "display_name": "datalab_venv",
   "language": "python",
   "name": "python3"
  },
  "language_info": {
   "codemirror_mode": {
    "name": "ipython",
    "version": 3
   },
   "file_extension": ".py",
   "mimetype": "text/x-python",
   "name": "python",
   "nbconvert_exporter": "python",
   "pygments_lexer": "ipython3",
   "version": "3.12.4"
  }
 },
 "nbformat": 4,
 "nbformat_minor": 2
}
